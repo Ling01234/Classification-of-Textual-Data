{
  "cells": [
    {
      "cell_type": "markdown",
      "metadata": {
        "id": "hMCMAi4QwMkH"
      },
      "source": [
        "# Imports"
      ]
    },
    {
      "cell_type": "code",
      "execution_count": null,
      "metadata": {
        "colab": {
          "base_uri": "https://localhost:8080/"
        },
        "id": "Q-tXQU-K53Ys",
        "outputId": "2d6424c4-50ad-4aef-f429-12de3afcf97a"
      },
      "outputs": [
        {
          "name": "stdout",
          "output_type": "stream",
          "text": [
            "--2022-11-08 04:15:07--  http://ai.stanford.edu/~amaas/data/sentiment/aclImdb_v1.tar.gz\n",
            "Resolving ai.stanford.edu (ai.stanford.edu)... 171.64.68.10\n",
            "Connecting to ai.stanford.edu (ai.stanford.edu)|171.64.68.10|:80... connected.\n",
            "HTTP request sent, awaiting response... 200 OK\n",
            "Length: 84125825 (80M) [application/x-gzip]\n",
            "Saving to: ‘aclImdb_v1.tar.gz.3’\n",
            "\n",
            "aclImdb_v1.tar.gz.3 100%[===================>]  80.23M  18.4MB/s    in 9.0s    \n",
            "\n",
            "2022-11-08 04:15:16 (8.90 MB/s) - ‘aclImdb_v1.tar.gz.3’ saved [84125825/84125825]\n",
            "\n"
          ]
        }
      ],
      "source": [
        "# #download the feature dataset\n",
        "!wget http://ai.stanford.edu/~amaas/data/sentiment/aclImdb_v1.tar.gz\n",
        "!tar -xf aclImdb_v1.tar.gz "
      ]
    },
    {
      "cell_type": "code",
      "execution_count": null,
      "metadata": {
        "colab": {
          "base_uri": "https://localhost:8080/"
        },
        "id": "3eIzB1omtaXj",
        "outputId": "1dc87b6d-cdeb-4440-dcc8-e48cfbe324e2"
      },
      "outputs": [
        {
          "name": "stdout",
          "output_type": "stream",
          "text": [
            "Looking in indexes: https://pypi.org/simple, https://us-python.pkg.dev/colab-wheels/public/simple/\n",
            "Requirement already satisfied: libsvm-official in /usr/local/lib/python3.7/dist-packages (3.30.0)\n",
            "Requirement already satisfied: scipy in /usr/local/lib/python3.7/dist-packages (from libsvm-official) (1.7.3)\n",
            "Requirement already satisfied: numpy<1.23.0,>=1.16.5 in /usr/local/lib/python3.7/dist-packages (from scipy->libsvm-official) (1.21.6)\n"
          ]
        }
      ],
      "source": [
        "import pandas as pd\n",
        "import numpy as np\n",
        "import math\n",
        "np.set_printoptions(threshold=np.inf)\n",
        "import matplotlib.pyplot as plt\n",
        "%pip install -U libsvm-official\n",
        "from libsvm.svmutil import *\n",
        "from sklearn.datasets import load_svmlight_file\n",
        "import warnings\n",
        "warnings.filterwarnings('ignore')\n",
        "from sklearn.linear_model import LogisticRegression\n",
        "from sklearn.tree import DecisionTreeClassifier\n",
        "from sklearn.metrics import roc_curve, roc_auc_score\n",
        "from sklearn.neighbors import KNeighborsClassifier\n"
      ]
    },
    {
      "cell_type": "code",
      "execution_count": null,
      "metadata": {
        "id": "9XJITJ8TQpHi"
      },
      "outputs": [],
      "source": [
        "from sklearn.feature_extraction import text\n",
        "extra = [*\"@_!#$%^&*()<>?/\\|0123456789\"]\n",
        "stop_words = text.ENGLISH_STOP_WORDS.union(frozenset(extra))"
      ]
    },
    {
      "cell_type": "markdown",
      "metadata": {
        "id": "UyE5fPKuAH09"
      },
      "source": [
        "# IMDB Reviews"
      ]
    },
    {
      "cell_type": "markdown",
      "metadata": {
        "id": "5EDcKIhvhsY0"
      },
      "source": [
        "## Data Processing"
      ]
    },
    {
      "cell_type": "code",
      "execution_count": null,
      "metadata": {
        "colab": {
          "base_uri": "https://localhost:8080/"
        },
        "id": "lDX2-1nC1RE_",
        "outputId": "0495390f-5b0a-475f-c2c8-f2c1cdb12239"
      },
      "outputs": [
        {
          "name": "stdout",
          "output_type": "stream",
          "text": [
            "x train length:  25000\n",
            "x test length:  25000\n",
            "y train shape:  (25000,)\n",
            "y test shape:  (25000,)\n"
          ]
        }
      ],
      "source": [
        "#load the feature dataset\n",
        "#x is a list of dictionaries, each key is the feature mapping to the number of occurrences\n",
        "#y is a list of ratings (1-10)\n",
        "y_train, x_train = svm_read_problem(\"/content/aclImdb/train/labeledBow.feat\")\n",
        "y_train = np.array(y_train)\n",
        "y_train = np.where(y_train <= 4, 0, y_train) #give 0 label to negative class ratings\n",
        "y_train = np.where(y_train >= 7, 1, y_train) #give 1 label to positive class ratings\n",
        "\n",
        "y_test, x_test = svm_read_problem(\"/content/aclImdb/test/labeledBow.feat\")\n",
        "y_test = np.array(y_test)\n",
        "y_test = np.where(y_test <= 4, 0, y_test) #give 0 label to negative class ratings\n",
        "y_test = np.where(y_test >= 7, 1, y_test) #give 1 label to positive class ratings\n",
        "\n",
        "print(\"x train length: \", len(x_train))\n",
        "print(\"x test length: \", len(x_test))\n",
        "print(\"y train shape: \", y_train.shape)\n",
        "print(\"y test shape: \", y_train.shape)\n",
        "\n",
        "#vocab\n",
        "with open(\"/content/aclImdb/imdb.vocab\", encoding=\"utf8\") as vocab:\n",
        "  vocab = vocab.read()\n",
        "vocab = np.array(vocab.split(\"\\n\")) #np array of shape (89527,)"
      ]
    },
    {
      "cell_type": "code",
      "execution_count": null,
      "metadata": {
        "id": "BmWhHHI9RywE"
      },
      "outputs": [],
      "source": [
        "#all_words is an array which its index i indicates the word presented in vocab[i]\n",
        "#all_words[i] is the number of documents that CONTAIN that word\n",
        "all_words = np.zeros_like(vocab, dtype=int)\n",
        "to_filter_train = np.empty(shape = (25000, len(vocab))) #np array of shape (25000, 89527)\n",
        "for index, movie in enumerate(x_train):\n",
        "  for feature in movie:\n",
        "    if vocab[feature].lower() not in stop_words:\n",
        "      all_words[feature] += 1 #when a feature occurs in a document\n",
        "      to_filter_train[index][feature] += movie[feature] #count the number of times each feature for each movie\n"
      ]
    },
    {
      "cell_type": "markdown",
      "metadata": {
        "id": "N_Y4fC2Vwy4L"
      },
      "source": [
        "### Word Filtering\n",
        "Processing the data by filtering out words that appear in less than 1% and more than 50% of the documents. "
      ]
    },
    {
      "cell_type": "code",
      "execution_count": null,
      "metadata": {
        "colab": {
          "base_uri": "https://localhost:8080/"
        },
        "id": "5eYBecExwyIj",
        "outputId": "f0abde67-52b2-4251-a536-8f89d22094c2"
      },
      "outputs": [
        {
          "name": "stdout",
          "output_type": "stream",
          "text": [
            "x_filtered_test shape is (25000, 1518):\n",
            "x_filtered shape is (25000, 1518):\n",
            "filtered words index shape: (1518,)\n",
            "filtered words shape: (1518,)\n"
          ]
        }
      ],
      "source": [
        "all_words_percentage = all_words/len(x_train) * 100\n",
        "filtered_words_index = np.asarray(np.where(((all_words_percentage >= 1) & (all_words_percentage <= 50)))).reshape(-1)\n",
        "\n",
        "#filtered_words is a nparray of words that appear >= than 1% and <= 50% of the documents\n",
        "filtered_words = vocab[filtered_words_index] \n",
        "x_filtered = np.zeros(shape = (25000, filtered_words.shape[0]), dtype=int)\n",
        "for index, movie in enumerate(to_filter_train):\n",
        "  x_filtered[index] = movie[filtered_words_index]\n",
        "\n",
        "\n",
        "all_words = np.zeros_like(vocab, dtype=int)\n",
        "#Filtering words that are kept from the training set in x_test\n",
        "to_filter_test = np.empty(shape = (25000, len(vocab))) #np array of shape (25000, 89527)\n",
        "for index, movie in enumerate(x_test):\n",
        "  for feature in movie:\n",
        "    if vocab[feature].lower() not in stop_words:\n",
        "      all_words[feature] += 1 #when a feature occurs in a document\n",
        "      to_filter_test[index][feature] += movie[feature] #count the number of times each feature for each movie\n",
        "    \n",
        "x_filtered_test = np.zeros(shape = (25000, filtered_words.shape[0]), dtype=int)\n",
        "for index, movie in enumerate(to_filter_test):\n",
        "  x_filtered_test[index] = movie[filtered_words_index]\n",
        "  \n",
        "print(\"x_filtered_test shape is {}:\".format(x_filtered_test.shape))\n",
        "print(\"x_filtered shape is {}:\".format(x_filtered.shape))\n",
        "print(\"filtered words index shape: {}\".format(filtered_words_index.shape))\n",
        "print(\"filtered words shape: {}\".format(filtered_words.shape))"
      ]
    },
    {
      "cell_type": "code",
      "execution_count": null,
      "metadata": {
        "colab": {
          "base_uri": "https://localhost:8080/"
        },
        "id": "NBSCaZ3pLHYD",
        "outputId": "5ef54a12-8e40-4557-9880-312e68d05002"
      },
      "outputs": [
        {
          "name": "stdout",
          "output_type": "stream",
          "text": [
            "standarlized y shape is  (25000,)\n"
          ]
        }
      ],
      "source": [
        "print(\"standarlized y shape is \", y_train.shape)\n"
      ]
    },
    {
      "cell_type": "markdown",
      "metadata": {
        "id": "cKUec5bc0ScG"
      },
      "source": [
        "### Simple Linear Regression Hypothesis Testing\n",
        "First, we will need standardize the vectors x and y in order to calculate the z-scores for each feature. "
      ]
    },
    {
      "cell_type": "code",
      "execution_count": null,
      "metadata": {
        "colab": {
          "base_uri": "https://localhost:8080/"
        },
        "id": "j1BvZfQO0bCz",
        "outputId": "ccd7a430-9f78-4e86-fafe-4bf6be4303cc"
      },
      "outputs": [
        {
          "name": "stdout",
          "output_type": "stream",
          "text": [
            "standarlized x shape is  (25000, 1518)\n",
            "standarlized y shape is  (25000, 1)\n",
            "z-scores shape is  (1518,)\n"
          ]
        }
      ],
      "source": [
        "def standardize(arr):\n",
        "  mean = np.mean(arr, axis=0)\n",
        "  sd = np.std(arr, axis=0)\n",
        "  standard = (arr - mean)/sd\n",
        "  return standard\n",
        "\n",
        "standardized_x = standardize(x_filtered)\n",
        "standardized_y = standardize(y_train).reshape(-1,1)\n",
        "\n",
        "z_scores = (np.dot(np.transpose(standardized_x), standardized_y)/np.sqrt(len(x_train))).reshape(-1)\n",
        "z_scores_absolute = np.absolute(np.dot(np.transpose(standardized_x), standardized_y)/np.sqrt(len(x_train))).reshape(-1)\n",
        "\n",
        "print(\"standarlized x shape is \", standardized_x.shape)\n",
        "print(\"standarlized y shape is \", standardized_y.shape)\n",
        "print(\"z-scores shape is \", z_scores.shape)"
      ]
    },
    {
      "cell_type": "markdown",
      "metadata": {
        "id": "asTmtOAD7HIz"
      },
      "source": [
        "Below is a histogram of the absolute z_scores. "
      ]
    },
    {
      "cell_type": "code",
      "execution_count": null,
      "metadata": {
        "colab": {
          "base_uri": "https://localhost:8080/",
          "height": 295
        },
        "id": "VgR5Wp7e7KgH",
        "outputId": "8dcb8001-c662-4bfc-f90d-a3500be8de2d"
      },
      "outputs": [
        {
          "data": {
            "image/png": "[encoded data removed]",
            "text/plain": [
              "<Figure size 432x288 with 1 Axes>"
            ]
          },
          "metadata": {
            "needs_background": "light"
          },
          "output_type": "display_data"
        }
      ],
      "source": [
        "_ = plt.hist(z_scores_absolute, bins=\"auto\", density=True)\n",
        "plt.xlabel(\"Absolute z-score value\")\n",
        "plt.ylabel(\"Probability density\")\n",
        "plt.title(\"Probability density of absolute z-score values\")\n",
        "plt.show()"
      ]
    },
    {
      "cell_type": "code",
      "execution_count": null,
      "metadata": {
        "colab": {
          "base_uri": "https://localhost:8080/"
        },
        "id": "4hT587aa8UEb",
        "outputId": "f23276ca-8e4d-443a-d1f3-f7daad4e4809"
      },
      "outputs": [
        {
          "name": "stdout",
          "output_type": "stream",
          "text": [
            "The top 10 features with most negative z-scores are : ['worst' 'waste' 'awful' 'worse' 'terrible' 'boring' 'stupid' 'horrible'\n",
            " 'poor' 'minutes']\n",
            "The top 10 features with most positive z-scores are : ['favorite' 'loved' 'amazing' 'beautiful' 'perfect' 'love' 'best'\n",
            " 'wonderful' 'excellent' 'great']\n"
          ]
        }
      ],
      "source": [
        "top_10_neg = np.argsort(z_scores)[:10] #index from vocab of top 10 neg z-scores\n",
        "top_10_pos = np.argsort(z_scores)[-10:] #index from vocab of top 10 pos z-scores\n",
        "\n",
        "print(\"The top 10 features with most negative z-scores are :\", vocab[filtered_words_index[top_10_neg]])\n",
        "print(\"The top 10 features with most positive z-scores are :\", vocab[filtered_words_index[top_10_pos]])"
      ]
    },
    {
      "cell_type": "code",
      "execution_count": null,
      "metadata": {
        "colab": {
          "base_uri": "https://localhost:8080/",
          "height": 295
        },
        "id": "c5o-KmP04YPb",
        "outputId": "f11c9b1f-dc23-40a7-82f3-993fee72a32e"
      },
      "outputs": [
        {
          "data": {
            "image/png": "[encoded data removed]",
            "text/plain": [
              "<Figure size 432x288 with 1 Axes>"
            ]
          },
          "metadata": {
            "needs_background": "light"
          },
          "output_type": "display_data"
        }
      ],
      "source": [
        "top_20 = vocab[filtered_words_index[np.concatenate((top_10_neg, top_10_pos))]] #y-axis\n",
        "top_20_zscore = z_scores[np.concatenate((top_10_neg, top_10_pos))] #x-axis\n",
        "\n",
        "plt.barh(top_20, top_20_zscore)\n",
        "plt.title(\"Top 20 Features From z-scores\")\n",
        "plt.xlabel(\"z-score\")\n",
        "plt.ylabel(\"Top 20 Words\")\n",
        "plt.savefig(\"bar_plot_top_20_words.png\", bbox_inches='tight', dpi=300)\n",
        "plt.show()"
      ]
    },
    {
      "cell_type": "markdown",
      "metadata": {
        "id": "QmqYPxqbR8tx"
      },
      "source": [
        "Clearly, we can see that the words with negative z-scores have a negative meaning and leads to believe that a review is not well rated. On the other hand, words with positive z-scores have a much more positive meaning and correlates well with a good movie review. "
      ]
    },
    {
      "cell_type": "markdown",
      "metadata": {
        "id": "eIMsHB6u8WqV"
      },
      "source": [
        "Let's now choose the top 200 features by their absolute z-scores. 100 Are chosen from the most positive z-scores, and 100 is chosen from the most negative ones. "
      ]
    },
    {
      "cell_type": "code",
      "execution_count": null,
      "metadata": {
        "id": "ZpNpfje98hOe"
      },
      "outputs": [],
      "source": [
        "top_100_neg = np.argsort(z_scores)[:100] #index from vocab of top 100 neg z-scores\n",
        "top_100_pos = np.argsort(z_scores)[-100:] #index from vocab of top 100 pos z-scores\n",
        "top_200 = np.concatenate((top_100_neg, top_100_pos))"
      ]
    },
    {
      "cell_type": "code",
      "execution_count": null,
      "metadata": {
        "colab": {
          "base_uri": "https://localhost:8080/"
        },
        "id": "HCsUe_dBLHYK",
        "outputId": "16f81994-ac7f-4905-ff93-b150a88a7545"
      },
      "outputs": [
        {
          "name": "stdout",
          "output_type": "stream",
          "text": [
            "x train final shape:  (25000, 200)\n",
            "x test final shape:  (25000, 200)\n"
          ]
        }
      ],
      "source": [
        "x_train_final = x_filtered[:,top_200]\n",
        "x_test_final = x_filtered_test[:,top_200]\n",
        "\n",
        "print(\"x train final shape: \", x_train_final.shape)\n",
        "print(\"x test final shape: \", x_test_final.shape)"
      ]
    },
    {
      "cell_type": "markdown",
      "metadata": {
        "id": "0dfXsIGQLKTr"
      },
      "source": [
        "### One Hot Encoding"
      ]
    },
    {
      "cell_type": "code",
      "execution_count": null,
      "metadata": {
        "id": "evMzelj1LNQ3"
      },
      "outputs": [],
      "source": [
        "# from sklearn.preprocessing import OneHotEncoder\n",
        "\n",
        "# enc = OneHotEncoder(handle_unknown=\"ignore\")\n",
        "# enc.fit(x_train_final)\n",
        "# x_train_final = enc.transform(x_train_final)\n",
        "# x_test_final = enc.transform(x_test_final)\n",
        "\n",
        "# print(\"After one hot encoding, x train final shape: \", x_train_final.shape)\n",
        "# print(\"After one hot encoding, x test final shape: \", x_test_final.shape)"
      ]
    },
    {
      "cell_type": "markdown",
      "metadata": {
        "id": "zsWCITYkDRKJ"
      },
      "source": [
        "## Logistic Regression"
      ]
    },
    {
      "cell_type": "markdown",
      "metadata": {
        "id": "KjJi7jLZDtpu"
      },
      "source": [
        "### Cost function\n",
        "To fit our model, we are maximizing the **logarithm of the conditional likelihood** by substituing the definition of logistic function, and minimizing the **negative** of the log-likelihood, which is the **cost function** as follows:\n",
        "\\begin{equation*}\n",
        "J(w) = \\sum_n y^{(n)}log(1+e^{-xw^T}) + (1-y^{(n)})log(1+e^{xw^T})\n",
        "\\end{equation*}\n",
        "We choose to use the mean rather than the sum of all data points as it is more practical. "
      ]
    },
    {
      "cell_type": "code",
      "execution_count": null,
      "metadata": {
        "id": "OctywNg1DuvG"
      },
      "outputs": [],
      "source": [
        "def cost_fn(x, y, w):\n",
        "    N, D = x.shape                                                       \n",
        "    z = np.dot(x, w)\n",
        "    J = np.mean(y * np.log1p(np.exp(-z)) + (1-y) * np.log1p(np.exp(z)))  #log1p calculates log(1+x) to remove floating point inaccuracies \n",
        "    return J"
      ]
    },
    {
      "cell_type": "markdown",
      "metadata": {
        "id": "Ta9QeaXkDw_Z"
      },
      "source": [
        "### Gradient Descent \n",
        "In order to minimize the cost function, we will use gradient descent. Specifically, we will start from some initial assignment to the parameters *w*, and take a small step at each iteration in the opposite direction of the **gradient**. \n",
        "\\begin{align*}\n",
        "\\frac{\\partial}{\\partial w_d} J(w) &=\\sum_n - y^{(n)} x^{(n)}_d \\frac{e^{-w^\\top x^{(n)}}}{1 + e^{-w^\\top x^{(n)}}} +x^{(n)}_d (1- y^{(n)}) \\frac{e^{w^\\top x^{(n)}}}{1 + e^{w^\\top x^{(n)}}}\\\\\n",
        "&= \\sum_n - x^{(n)}_d y^{(n)} (1-\\hat{y}^{(n)})+ x^{(n)}_d (1- y^{(n)}) \\hat{y}^{(n)} \\\\\n",
        "&= x^{(n)}_d (\\hat{y}^{(n)} - y^{(n)}) \n",
        "\\end{align*}\n",
        "\n",
        "Note that in the above cost function, we decided to use the mean. Thus, we will do the same here by dividing the gradient by *N*. "
      ]
    },
    {
      "cell_type": "markdown",
      "metadata": {
        "id": "eoFpad57DohT"
      },
      "source": [
        "### Logistic Regression Class"
      ]
    },
    {
      "cell_type": "code",
      "execution_count": null,
      "metadata": {
        "id": "Vte3i4yfDpcU"
      },
      "outputs": [],
      "source": [
        "logistic = lambda z: 1./ (1 + np.exp(-z)) #logistic function\n",
        "class LogisticRegression1:\n",
        "\n",
        "    def __init__(self, add_bias=False, learning_rate=.1, epsilon=1e-4, max_iters=1e5, verbose=False):\n",
        "        self.add_bias = add_bias\n",
        "        self.learning_rate = learning_rate\n",
        "        self.epsilon = epsilon                        #to get the tolerance for the norm of gradients\n",
        "        self.max_iters = max_iters                    #maximum number of iteration of gradient descent\n",
        "        self.verbose = verbose\n",
        "\n",
        "    def gradient(self, x, y):\n",
        "        N,D = x.shape\n",
        "        # x = x.toarray()\n",
        "        yh = logistic(np.dot(x, self.w))    # predictions size N\n",
        "        grad = np.dot(x.T, yh - y)/N        # divide by N because cost is mean over N points\n",
        "        return grad\n",
        "\n",
        "    def fit(self, x, y, x_valid=None, y_valid = None):\n",
        "        # x = x.toarray()\n",
        "        # x_valid = x_valid.toarray()\n",
        "        losses_train = np.zeros(self.max_iters)\n",
        "        losses_valid = np.zeros(self.max_iters)\n",
        "        if x.ndim == 1:\n",
        "            x = x[:, None]\n",
        "        if self.add_bias:\n",
        "            N = x.shape[0]\n",
        "            x = np.column_stack([x,np.ones(N)])\n",
        "        N,D = x.shape\n",
        "        self.w = np.zeros(D)\n",
        "        g = np.inf\n",
        "        t = 0\n",
        "        # the code snippet below is for gradient descent\n",
        "        while np.linalg.norm(g) > self.epsilon and t < self.max_iters:\n",
        "            # print(\"Iteration \", t)\n",
        "            g = self.gradient(x, y)\n",
        "            self.w = self.w - self.learning_rate * g\n",
        "            losses_train[t] = cost_fn(x, y, self.w)\n",
        "            if x_valid is not None:\n",
        "                losses_valid[t] = cost_fn(x_valid, y_valid, self.w)\n",
        "            t += 1\n",
        "\n",
        "        if self.verbose:\n",
        "            print(f'terminated after {t} iterations, with norm of the gradient equal to {np.linalg.norm(g)}')\n",
        "            print(f'the weight found: {self.w}')\n",
        "        return self, losses_train, losses_valid\n",
        "\n",
        "    def predict(self, x):\n",
        "        # x = x.toarray()\n",
        "        if x.ndim == 1:\n",
        "            x = x[:, None]\n",
        "        Nt = x.shape[0]\n",
        "        if self.add_bias:\n",
        "            x = np.column_stack([x,np.ones(Nt)])\n",
        "        yh = logistic(np.dot(x,self.w))            #predict output\n",
        "        yh = np.where(yh <= 0.5, 0, 1)\n",
        "        return yh"
      ]
    },
    {
      "cell_type": "markdown",
      "metadata": {
        "id": "eGbAxx0fDtSU"
      },
      "source": [
        "### Convergence of Logistic Regression"
      ]
    },
    {
      "cell_type": "code",
      "execution_count": null,
      "metadata": {
        "colab": {
          "base_uri": "https://localhost:8080/",
          "height": 334
        },
        "id": "8OeMHlSiDwuU",
        "outputId": "62404367-4b4e-4dcf-9872-ac9cafa87ce2"
      },
      "outputs": [
        {
          "name": "stdout",
          "output_type": "stream",
          "text": [
            "(25000, 200)\n",
            "(25000,)\n",
            "<class 'numpy.ndarray'>\n"
          ]
        },
        {
          "data": {
            "image/png": "[encoded data removed]",
            "text/plain": [
              "<Figure size 432x288 with 1 Axes>"
            ]
          },
          "metadata": {
            "needs_background": "light"
          },
          "output_type": "display_data"
        }
      ],
      "source": [
        "from sklearn.model_selection import train_test_split\n",
        "print(x_train_final.shape)\n",
        "print(y_train.shape)\n",
        "x_train, x_valid, y_train1, y_valid =  train_test_split(x_train_final, y_train, shuffle=True, test_size=0.3)\n",
        "print(type(x_valid))\n",
        "model = LogisticRegression1(max_iters=2000, learning_rate=1)\n",
        "_, cost_train, cost_valid = model.fit(x=x_train, y=y_train1, x_valid=x_valid, y_valid=y_valid)\n",
        "\n",
        "plt.clf()\n",
        "plt.plot(cost_train, label='train')\n",
        "plt.plot(cost_valid, label='valid')\n",
        "plt.xlabel(\"Iteration\")\n",
        "plt.ylabel(\"Cost Function\")\n",
        "plt.legend()\n",
        "plt.savefig(\"logistic_convergence.png\", bbox_inches=\"tight\", dpi=300)\n",
        "plt.show()"
      ]
    },
    {
      "cell_type": "markdown",
      "metadata": {
        "id": "y94QtULZKHqp"
      },
      "source": [
        "### Top 20 Features From Logistic Regression\n",
        "Below we also calculate the top 20 features obtained from the weights after fitting our Logistic Regression Model. "
      ]
    },
    {
      "cell_type": "code",
      "execution_count": null,
      "metadata": {
        "colab": {
          "base_uri": "https://localhost:8080/",
          "height": 368
        },
        "id": "qiuvC-o9KPe-",
        "outputId": "470fea56-443b-446e-d278-94e4c1644b6b"
      },
      "outputs": [
        {
          "name": "stdout",
          "output_type": "stream",
          "text": [
            "The top 10 features with most negative weights are : ['waste' 'worst' 'poorly' 'awful' 'disappointment' 'dull' 'pointless'\n",
            " 'laughable' 'wasted' 'avoid']\n",
            "The top 10 features with most positive weights are : ['wonderful' 'amazing' 'perfect' 'fantastic' 'enjoyable' 'rare' 'favorite'\n",
            " 'wonderfully' 'superb' 'excellent']\n"
          ]
        },
        {
          "data": {
            "image/png": "[encoded data removed]",
            "text/plain": [
              "<Figure size 432x288 with 1 Axes>"
            ]
          },
          "metadata": {
            "needs_background": "light"
          },
          "output_type": "display_data"
        }
      ],
      "source": [
        "model = LogisticRegression1(max_iters=1000, learning_rate=1)\n",
        "model_fitted = model.fit(x_train_final, y_train)\n",
        "weights = model_fitted[0].w\n",
        "\n",
        "top_10_neg_log = np.argsort(weights)[:10] #index from vocab of top 10 neg weights\n",
        "top_10_pos_log = np.argsort(weights)[-10:] #index from vocab of top 10 pos weights\n",
        "print(\"The top 10 features with most negative weights are :\", vocab[filtered_words_index[top_200[top_10_neg_log]]])\n",
        "print(\"The top 10 features with most positive weights are :\", vocab[filtered_words_index[top_200[top_10_pos_log]]])\n",
        "top_20_logy = vocab[filtered_words_index[top_200[np.concatenate((top_10_neg_log, top_10_pos_log))]]] #y-axis\n",
        "top_20_logx = weights[np.concatenate((top_10_neg_log, top_10_pos_log))] #x-axis\n",
        "\n",
        "plt.barh(top_20_logy, top_20_logx)\n",
        "plt.title(\"Top 20 Features From Logistic Regression\")\n",
        "plt.xlabel(\"Weights\")\n",
        "plt.ylabel(\"Top 20 Words\")\n",
        "plt.savefig(\"bar_plot_top_20_words_log.png\", bbox_inches='tight', dpi=300)\n",
        "plt.show()"
      ]
    },
    {
      "cell_type": "markdown",
      "metadata": {
        "id": "2oLqwR8mKS0r"
      },
      "source": [
        "We can see that the top 20 features from both the coefficients and z-scores give a good representation of whether a movie is good or bad. "
      ]
    },
    {
      "cell_type": "markdown",
      "metadata": {
        "id": "cqnc1DmJ4wwK"
      },
      "source": [
        "### Test accuracy of Logistic Regression as a function of training size"
      ]
    },
    {
      "cell_type": "code",
      "execution_count": null,
      "metadata": {
        "colab": {
          "base_uri": "https://localhost:8080/",
          "height": 295
        },
        "id": "SLvHviNs41fP",
        "outputId": "ea3f9b9d-54fa-4871-c624-a1c5bb685d32"
      },
      "outputs": [
        {
          "data": {
            "image/png": "[encoded data removed]",
            "text/plain": [
              "<Figure size 432x288 with 1 Axes>"
            ]
          },
          "metadata": {
            "needs_background": "light"
          },
          "output_type": "display_data"
        }
      ],
      "source": [
        "perf = {}\n",
        "percentages = [0.001, 0.01, 0.20, 0.40, 0.60, 0.80, 1]\n",
        "aucs = []\n",
        "\n",
        "for percentage in percentages:\n",
        "    permutation = np.random.permutation(x_train_final.shape[0])\n",
        "    permutation_selected = permutation[:int(percentage * x_train_final.shape[0])] #randomly select a percentage of training size\n",
        "    permutated_x_train = x_train_final[permutation_selected,:]\n",
        "    permutated_y_train = y_train[permutation_selected]\n",
        "    \n",
        "    model = LogisticRegression1(max_iters=1000, learning_rate=1)\n",
        "    yh = model.fit(permutated_x_train, permutated_y_train)[0].predict(x_test_final) #testing on the whole test dataset\n",
        "    auc = roc_auc_score(y_test, yh)\n",
        "    aucs.append(auc)\n",
        "\n",
        "\n",
        "plt.bar([str(x) for x in percentages], aucs)\n",
        "plt.xlabel(\"False Positive Rate\")\n",
        "plt.ylabel(\"True Positive Rate\")\n",
        "plt.title(\"Accuracy of Logistic Regression as a Function of Training Size\")\n",
        "plt.savefig('multi_training_size_log.png', bbox_inches='tight', dpi=300)\n",
        "plt.show()\n",
        "    "
      ]
    },
    {
      "cell_type": "markdown",
      "metadata": {
        "id": "axtrLiiJ45Dq"
      },
      "source": [
        "### Test accuracy based on different learning rates"
      ]
    },
    {
      "cell_type": "code",
      "execution_count": null,
      "metadata": {
        "colab": {
          "base_uri": "https://localhost:8080/",
          "height": 313
        },
        "id": "nx-Ge99w453M",
        "outputId": "60f50309-09c2-45d8-b4c3-24a0c484abbd"
      },
      "outputs": [
        {
          "data": {
            "image/png": "[encoded data removed]",
            "text/plain": [
              "<Figure size 432x288 with 1 Axes>"
            ]
          },
          "metadata": {
            "needs_background": "light"
          },
          "output_type": "display_data"
        },
        {
          "name": "stdout",
          "output_type": "stream",
          "text": [
            "[0.7864800000000001, 0.8227200000000001, 0.8374, 0.84224, 0.8438]\n"
          ]
        }
      ],
      "source": [
        "rates = [0.01, 0.05, 0.2, 0.5, 1]\n",
        "aucs = [] \n",
        "for rate in rates:\n",
        "    model = LogisticRegression1(max_iters=1000, learning_rate=rate)\n",
        "    yh = model.fit(x_train_final, y_train)[0].predict(x_test_final) #testing on the whole test dataset\n",
        "    auc = roc_auc_score(y_test, yh)\n",
        "    aucs.append(auc)\n",
        "\n",
        "plt.bar([str(x) for x in rates], aucs)\n",
        "plt.xlabel(\"False Positive Rate\")\n",
        "plt.ylabel(\"True Positive Rate\")\n",
        "plt.title(\"Accuracy of Logistic Regression as a Function of Learning Rate\")\n",
        "plt.savefig('multi_learning_rate_log.png', bbox_inches='tight', dpi=300)\n",
        "plt.show()\n",
        "print(aucs)"
      ]
    },
    {
      "cell_type": "markdown",
      "metadata": {
        "id": "SZtIGaMT273N"
      },
      "source": [
        "### Comparing Logistic Regression with Other Models\n"
      ]
    },
    {
      "cell_type": "code",
      "execution_count": null,
      "metadata": {
        "colab": {
          "base_uri": "https://localhost:8080/",
          "height": 279
        },
        "id": "93VXj4YtLeqo",
        "outputId": "99802b67-742d-4e5e-8876-afdccd8cc54a"
      },
      "outputs": [
        {
          "data": {
            "image/png": "[encoded data removed]",
            "text/plain": [
              "<Figure size 432x288 with 1 Axes>"
            ]
          },
          "metadata": {
            "needs_background": "light"
          },
          "output_type": "display_data"
        }
      ],
      "source": [
        "models = [LogisticRegression(),\n",
        "          LogisticRegression1(max_iters=2000, learning_rate=1),\n",
        "          KNeighborsClassifier(),\n",
        "          DecisionTreeClassifier()]\n",
        "perf = {}\n",
        "\n",
        "for model in models:\n",
        "    model_name = type(model).__name__\n",
        "    # print(model_name)\n",
        "    if model_name == \"LogisticRegression1\":\n",
        "        label, pred = y_test, model.fit(x_train_final, y_train)[0].predict(x_test_final)\n",
        "    else:\n",
        "        label, pred = y_test, model.fit(x_train_final, y_train).predict(x_test_final)\n",
        "    fpr, tpr, _ = roc_curve(label, pred)\n",
        "    auc = roc_auc_score(label, pred)\n",
        "    perf[model_name] = {'fpr':fpr,'tpr':tpr,'auc':auc}\n",
        "\n",
        "fig = plt.figure()\n",
        "i = 0\n",
        "for model_name, model_perf in perf.items():\n",
        "    plt.plot(model_perf['fpr'], model_perf['tpr'],\n",
        "             label=model_name)\n",
        "    plt.text(0.4, i, model_name + ': AUC = '+\n",
        "             str(round(model_perf['auc'],7)))\n",
        "    i += 0.1\n",
        "    \n",
        "plt.legend(loc='lower right', bbox_to_anchor=(1, 0.45))\n",
        "plt.xlabel(\"False Positive Rate\")\n",
        "plt.ylabel(\"True Positive Rate\")\n",
        "plt.savefig('roc_multimethods.png', bbox_inches='tight', dpi=300)\n",
        "plt.show()"
      ]
    },
    {
      "cell_type": "markdown",
      "metadata": {
        "id": "EwJKupBKJQHd"
      },
      "source": [
        "### Small pertubation to verify gradient\n",
        "From class lectures, we have learnt that we can verify the gradient as follows:\n",
        "1. $\\epsilon \\sim Uniform([0,1])$\n",
        "2. $w^{(+)}_d = w_d + \\epsilon$\n",
        "3. $w^{(-)}_d = w_d - \\epsilon$\n",
        "4. $\\nabla w_d = \\frac{J(w^{(+)}_d) - J(w^{(-)}_d)}{2 \\epsilon}$ (numerically estimated gradient)\n",
        "5. $\\frac{(\\frac{\\partial J(w)}{\\partial w}  - \\nabla w_d)^2}{(\\frac{\\partial J(w)}{\\partial w}  + \\nabla w_d)^2}$ must be small (e.g., $10^{-8}$) otherwise your gradient calculation and/or your loss function is incorrect"
      ]
    },
    {
      "cell_type": "code",
      "execution_count": null,
      "metadata": {
        "colab": {
          "base_uri": "https://localhost:8080/"
        },
        "id": "LB2Mb_6zucbo",
        "outputId": "0ab9b882-eddc-4410-dcbc-41820afcb027"
      },
      "outputs": [
        {
          "name": "stdout",
          "output_type": "stream",
          "text": [
            "107989.84778818364\n",
            "107989.84786712736\n",
            "1.3360087557197143e-19\n"
          ]
        }
      ],
      "source": [
        "N = 25000\n",
        "x = x_train_final\n",
        "y = y_train\n",
        "y = y.reshape(25000,1)\n",
        "# small perturbation\n",
        "w = np.random.randn(1)\n",
        "w0 = w\n",
        "epsilon = np.random.randn(1)[0] * 1e-5\n",
        "w1 = w0 + epsilon\n",
        "w2 = w0 - epsilon\n",
        "a1 = w1*x\n",
        "a2 = w2*x\n",
        "ce1 = np.sum(y * np.log1p(np.exp(-a1)) + (1-y) * np.log1p(np.exp(a1)))\n",
        "ce2 = np.sum(y * np.log1p(np.exp(-a2)) + (1-y) * np.log1p(np.exp(a2)))\n",
        "dw_num = (ce1 - ce2)/(2*epsilon) # approximated gradient\n",
        "\n",
        "yh = 1/(1+np.exp(-x * w))\n",
        "dw_cal = np.sum((yh - y) * x) # hand calculated gradient\n",
        "\n",
        "print(dw_cal)\n",
        "print(dw_num)\n",
        "print((dw_cal - dw_num)**2/(dw_cal + dw_num)**2)"
      ]
    },
    {
      "cell_type": "markdown",
      "metadata": {
        "id": "mD4sQ2Fu5D7q"
      },
      "source": [
        "## Linear and Ridge Regression\n",
        "We will also use Linear Regression and Ridge Regression to try and predict the binary rating from the IMDB movie reviews. "
      ]
    },
    {
      "cell_type": "code",
      "execution_count": null,
      "metadata": {
        "colab": {
          "base_uri": "https://localhost:8080/",
          "height": 279
        },
        "id": "fo83W4-L5H1i",
        "outputId": "b6d1c937-a69a-46e3-c339-963aa04c7f0a"
      },
      "outputs": [
        {
          "data": {
            "image/png": "[encoded data removed]",
            "text/plain": [
              "<Figure size 432x288 with 1 Axes>"
            ]
          },
          "metadata": {
            "needs_background": "light"
          },
          "output_type": "display_data"
        }
      ],
      "source": [
        "from sklearn.linear_model import LinearRegression, Ridge\n",
        "\n",
        "models = [LinearRegression(),\n",
        "          Ridge()]\n",
        "perf = {}\n",
        "\n",
        "for model in models:\n",
        "    model_name = type(model).__name__\n",
        "    label, pred = y_test, model.fit(x_train_final, y_train).predict(x_test_final)\n",
        "    fpr, tpr, _ = roc_curve(label, pred)\n",
        "    auc = roc_auc_score(label, pred)\n",
        "    perf[model_name] = {'fpr':fpr,'tpr':tpr,'auc':auc}\n",
        "\n",
        "fig = plt.figure()\n",
        "i = 0\n",
        "for model_name, model_perf in perf.items():\n",
        "    plt.plot(model_perf['fpr'], model_perf['tpr'],\n",
        "             label=model_name)\n",
        "    plt.text(0.4, i, model_name + ': AUC = '+\n",
        "             str(round(model_perf['auc'],4)))\n",
        "    i += 0.1\n",
        "    \n",
        "plt.legend(loc='best', bbox_to_anchor=(1, 0.5))\n",
        "plt.xlabel(\"False Positive Rate\")\n",
        "plt.ylabel(\"True Positive Rate\")\n",
        "plt.savefig('Ridge_vs_LinearRegression.png', bbox_inches='tight', dpi=300)\n",
        "plt.show()"
      ]
    },
    {
      "cell_type": "markdown",
      "metadata": {
        "id": "wO8aGAoz_ii8"
      },
      "source": [
        "# 20 News Groups\n"
      ]
    },
    {
      "cell_type": "code",
      "execution_count": null,
      "metadata": {
        "colab": {
          "base_uri": "https://localhost:8080/"
        },
        "id": "ry2TdXoTBBAG",
        "outputId": "166efd40-e061-41b2-e357-31b32002e7c5"
      },
      "outputs": [
        {
          "name": "stdout",
          "output_type": "stream",
          "text": [
            "2378\n",
            "1081\n",
            "1081\n"
          ]
        }
      ],
      "source": [
        "#load dataset\n",
        "from sklearn.datasets import fetch_20newsgroups\n",
        "from sklearn.feature_extraction.text import CountVectorizer\n",
        "from sklearn.feature_extraction import text\n",
        "\n",
        "categories = ['rec.sport.baseball', 'soc.religion.christian','comp.graphics', 'rec.motorcycles']\n",
        "train = fetch_20newsgroups(subset=\"train\", categories=categories, remove=([\"headers\", \"footers\", \"quotes\"]), shuffle=True, random_state=43)\n",
        "x_train_news, y_train_news = train.data, train.target\n",
        "\n",
        "#print(\"There is {} samples in x_train_news.\".format(len(x_train_news)))\n",
        "#print(\"\\n\".join(train.data[0].split(\"\\n\")[:3]))\n",
        "#print(train.target[:20])\n",
        "\n",
        "# Tokenization of data\n",
        "count_vect = CountVectorizer(stop_words='english', max_df=0.5, min_df=0.01)\n",
        "X_train_counts = count_vect.fit_transform(train.data)\n",
        "X_array = X_train_counts.toarray()\n",
        "num_documents = len(X_array)\n",
        "num_tokens = len(X_array[0])\n",
        "print(num_documents)\n",
        "print(num_tokens)\n",
        "print(len(X_array[1]))\n",
        "\n",
        "\n"
      ]
    },
    {
      "cell_type": "markdown",
      "metadata": {
        "id": "SCkMACG0wqEs"
      },
      "source": [
        "## Selecting the top feature words per class using Mutual Information"
      ]
    },
    {
      "cell_type": "code",
      "execution_count": null,
      "metadata": {
        "colab": {
          "base_uri": "https://localhost:8080/"
        },
        "id": "yE1Xjgq9w0Ns",
        "outputId": "150d14b1-684d-4477-bf9d-f056e48856d6"
      },
      "outputs": [
        {
          "name": "stdout",
          "output_type": "stream",
          "text": [
            "Index 0: comp.graphics\n",
            "Index 1: rec.motorcycles\n",
            "Index 2: rec.sport.baseball\n",
            "Index 3: soc.religion.christian\n",
            "----------------Category: comp.graphics----------------\n",
            "bikes\n",
            "years\n",
            "religion\n",
            "death\n",
            "appreciated\n",
            "information\n",
            "points\n",
            "league\n",
            "baseball\n",
            "write\n",
            "tiff\n",
            "hit\n",
            "lines\n",
            "help\n",
            "truth\n",
            "looking\n",
            "think\n",
            "ray\n",
            "really\n",
            "applications\n",
            "mac\n",
            "pub\n",
            "mail\n",
            "season\n",
            "project\n",
            "man\n",
            "ms\n",
            "algorithms\n",
            "christian\n",
            "use\n",
            "surface\n",
            "christianity\n",
            "support\n",
            "church\n",
            "team\n",
            "faith\n",
            "advance\n",
            "polygon\n",
            "email\n",
            "year\n",
            "comp\n",
            "convert\n",
            "say\n",
            "ride\n",
            "data\n",
            "dod\n",
            "256\n",
            "said\n",
            "systems\n",
            "did\n",
            "info\n",
            "hardware\n",
            "directory\n",
            "display\n",
            "dos\n",
            "video\n",
            "vga\n",
            "computer\n",
            "version\n",
            "colors\n",
            "color\n",
            "code\n",
            "using\n",
            "christians\n",
            "file\n",
            "screen\n",
            "windows\n",
            "files\n",
            "formats\n",
            "christ\n",
            "unix\n",
            "ftp\n",
            "card\n",
            "gif\n",
            "god\n",
            "graphics\n",
            "hi\n",
            "bike\n",
            "bible\n",
            "believe\n",
            "image\n",
            "images\n",
            "available\n",
            "site\n",
            "interface\n",
            "jesus\n",
            "library\n",
            "thanks\n",
            "programs\n",
            "mode\n",
            "animation\n",
            "programming\n",
            "algorithm\n",
            "program\n",
            "package\n",
            "pc\n",
            "software\n",
            "3d\n",
            "people\n",
            "format\n",
            "----------------Category: rec.motorcycles----------------\n",
            "screen\n",
            "exists\n",
            "create\n",
            "things\n",
            "buy\n",
            "fans\n",
            "belief\n",
            "word\n",
            "teams\n",
            "question\n",
            "lord\n",
            "st\n",
            "true\n",
            "words\n",
            "convert\n",
            "street\n",
            "win\n",
            "world\n",
            "file\n",
            "programs\n",
            "read\n",
            "given\n",
            "realize\n",
            "life\n",
            "package\n",
            "claim\n",
            "24\n",
            "say\n",
            "fact\n",
            "man\n",
            "head\n",
            "hey\n",
            "bought\n",
            "argument\n",
            "eternal\n",
            "ftp\n",
            "player\n",
            "pitching\n",
            "play\n",
            "car\n",
            "team\n",
            "players\n",
            "sin\n",
            "point\n",
            "3d\n",
            "catholic\n",
            "john\n",
            "seat\n",
            "game\n",
            "games\n",
            "people\n",
            "jewish\n",
            "jesus\n",
            "season\n",
            "scripture\n",
            "software\n",
            "paul\n",
            "league\n",
            "bmw\n",
            "bikes\n",
            "bike\n",
            "program\n",
            "god\n",
            "files\n",
            "bible\n",
            "truth\n",
            "believe\n",
            "road\n",
            "insurance\n",
            "computer\n",
            "riding\n",
            "rider\n",
            "graphics\n",
            "images\n",
            "baseball\n",
            "dod\n",
            "image\n",
            "does\n",
            "ride\n",
            "dog\n",
            "christ\n",
            "driving\n",
            "christian\n",
            "16\n",
            "christianity\n",
            "christians\n",
            "church\n",
            "honda\n",
            "faith\n",
            "motorcycles\n",
            "come\n",
            "motorcycle\n",
            "religion\n",
            "rear\n",
            "year\n",
            "think\n",
            "engine\n",
            "miles\n",
            "helmet\n",
            "heaven\n",
            "----------------Category: rec.sport.baseball----------------\n",
            "manager\n",
            "defensive\n",
            "defense\n",
            "files\n",
            "dave\n",
            "cubs\n",
            "toronto\n",
            "file\n",
            "game\n",
            "games\n",
            "god\n",
            "computer\n",
            "graphics\n",
            "stats\n",
            "truth\n",
            "fans\n",
            "hit\n",
            "code\n",
            "cleveland\n",
            "church\n",
            "christians\n",
            "christianity\n",
            "christian\n",
            "hitter\n",
            "christ\n",
            "hitting\n",
            "staff\n",
            "stadium\n",
            "home\n",
            "use\n",
            "career\n",
            "hr\n",
            "human\n",
            "image\n",
            "jays\n",
            "braves\n",
            "boston\n",
            "sox\n",
            "jesus\n",
            "league\n",
            "life\n",
            "fan\n",
            "smith\n",
            "faith\n",
            "era\n",
            "bikes\n",
            "bike\n",
            "mets\n",
            "sin\n",
            "bible\n",
            "better\n",
            "mike\n",
            "team\n",
            "need\n",
            "batting\n",
            "bat\n",
            "nl\n",
            "baseball\n",
            "base\n",
            "ball\n",
            "non\n",
            "offense\n",
            "average\n",
            "offensive\n",
            "win\n",
            "park\n",
            "people\n",
            "winning\n",
            "atlanta\n",
            "philadelphia\n",
            "season\n",
            "won\n",
            "scored\n",
            "score\n",
            "phillies\n",
            "pitch\n",
            "pitcher\n",
            "alomar\n",
            "works\n",
            "pitchers\n",
            "al\n",
            "pitching\n",
            "play\n",
            "player\n",
            "ryan\n",
            "runs\n",
            "dod\n",
            "dodgers\n",
            "players\n",
            "problem\n",
            "rotation\n",
            "program\n",
            "yankees\n",
            "teams\n",
            "year\n",
            "question\n",
            "riding\n",
            "ride\n",
            "religion\n",
            "email\n",
            "----------------Category: soc.religion.christian----------------\n",
            "john\n",
            "living\n",
            "die\n",
            "law\n",
            "reason\n",
            "men\n",
            "read\n",
            "heaven\n",
            "body\n",
            "time\n",
            "meaning\n",
            "acts\n",
            "true\n",
            "question\n",
            "truth\n",
            "think\n",
            "things\n",
            "religion\n",
            "religions\n",
            "mind\n",
            "religious\n",
            "bike\n",
            "mary\n",
            "man\n",
            "accept\n",
            "teachings\n",
            "eternal\n",
            "biblical\n",
            "holy\n",
            "bible\n",
            "human\n",
            "resurrection\n",
            "graphics\n",
            "death\n",
            "evidence\n",
            "revelation\n",
            "gospel\n",
            "romans\n",
            "believed\n",
            "answer\n",
            "love\n",
            "believe\n",
            "prayer\n",
            "does\n",
            "god\n",
            "doctrine\n",
            "pray\n",
            "divine\n",
            "lord\n",
            "exist\n",
            "statement\n",
            "said\n",
            "salvation\n",
            "discussion\n",
            "nature\n",
            "beliefs\n",
            "jesus\n",
            "say\n",
            "existence\n",
            "jews\n",
            "spiritual\n",
            "father\n",
            "point\n",
            "come\n",
            "spirit\n",
            "saying\n",
            "says\n",
            "scripture\n",
            "scriptures\n",
            "authority\n",
            "clear\n",
            "follow\n",
            "catholic\n",
            "belief\n",
            "word\n",
            "words\n",
            "son\n",
            "christ\n",
            "claim\n",
            "world\n",
            "fact\n",
            "person\n",
            "worship\n",
            "faith\n",
            "churches\n",
            "people\n",
            "peace\n",
            "know\n",
            "church\n",
            "paul\n",
            "wrong\n",
            "christians\n",
            "christianity\n",
            "christian\n",
            "life\n",
            "children\n",
            "did\n",
            "sins\n",
            "sin\n",
            "matter\n"
          ]
        }
      ],
      "source": [
        "from sklearn import metrics\n",
        "from sklearn.feature_selection import mutual_info_classif\n",
        "\n",
        "NUM_FEATURES = 100\n",
        "\n",
        "# print(metrics.mutual_info_score(X_array, y_train_news))\n",
        "y_one_hot_encoded = np.zeros((len(y_train_news), 4), dtype=int)\n",
        "for i in range(len(y_train_news)):\n",
        "  y_one_hot_encoded[i][y_train_news[i]] = 1\n",
        "\n",
        "best_words_index = set()\n",
        "for i in range(4):\n",
        "  print(f\"Index {i}: {train.target_names[i]}\")\n",
        "\n",
        "for y in range(4):\n",
        "  l = []\n",
        "  for x in range(num_tokens):\n",
        "    l.append(metrics.mutual_info_score(y_one_hot_encoded[:,y], X_array[:,x]))\n",
        "\n",
        "  l = np.array(l)\n",
        "  largest = np.argpartition(l, -NUM_FEATURES)[-NUM_FEATURES:]\n",
        "  print(f\"----------------Category: {train.target_names[y]}----------------\")\n",
        "  for ind in largest:\n",
        "    print(count_vect.get_feature_names_out()[ind])\n",
        "    best_words_index.add(ind)\n",
        "\n",
        "best_X_array = np.zeros((num_documents, len(best_words_index)), dtype=int)\n",
        "\n",
        "for doc in range(len(X_array)):\n",
        "  counter = 0\n",
        "  for i in range(len(X_array[i])):\n",
        "    if i in best_words_index:\n",
        "      best_X_array[doc,counter] = int(X_array[doc,i])\n",
        "      counter+=1\n",
        "\n",
        "\n",
        "\n",
        "\n"
      ]
    },
    {
      "cell_type": "markdown",
      "metadata": {
        "id": "eTCBcY5-S6m1"
      },
      "source": [
        "Split the data into training, validation, and testing"
      ]
    },
    {
      "cell_type": "code",
      "execution_count": null,
      "metadata": {
        "id": "A4wJtmgdTZTH"
      },
      "outputs": [],
      "source": [
        "from sklearn import model_selection\n",
        "\n",
        "X_train, X_test, y_train, y_test = model_selection.train_test_split(\n",
        "    best_X_array, y_one_hot_encoded, test_size = 0.33, shuffle=True)\n",
        "\n",
        "X_train, X_valid, y_train, y_valid = model_selection.train_test_split(\n",
        "    X_train, y_train, test_size = 0.5, random_state=1, shuffle=True)"
      ]
    },
    {
      "cell_type": "markdown",
      "metadata": {
        "id": "JVG5eUhL6ojr"
      },
      "source": [
        "Multiclass Regression"
      ]
    },
    {
      "cell_type": "code",
      "execution_count": null,
      "metadata": {
        "id": "aiPe1ezc6sCT"
      },
      "outputs": [],
      "source": [
        "from numpy import linalg\n",
        "from scipy import special\n",
        "\n",
        "class Multinomial_logistic:\n",
        "    def __init__(self, nFeatures, nClasses):\n",
        "        self.W = np.random.rand(nFeatures, nClasses)   \n",
        "\n",
        "    def predict(self, X):\n",
        "        Z = np.matmul(X, self.W)\n",
        "        Z = Z - Z.max(axis=-1, keepdims=True)\n",
        "        y_pred = np.exp(Z)\n",
        "        return y_pred / y_pred.sum(axis=1).reshape(X.shape[0], 1)    \n",
        "\n",
        "    def grad(self, X, y):\n",
        "        return np.matmul(X.transpose(), self.predict(X) - y)\n",
        "\n",
        "    def ce(self, X, y):\n",
        "        return -np.sum(special.xlogy(y,self.predict(X)))\n",
        "\n",
        "    def fit(self, X, y, X_valid=None, y_valid=None, epsilon=1e-2, lr=0.001, niter=100):\n",
        "        losses_train = np.zeros(niter)\n",
        "        losses_valid = np.zeros(niter)\n",
        "        for i in range(niter):\n",
        "            if linalg.norm(self.grad(X, y)) < epsilon:\n",
        "              break\n",
        "            self.W = self.W - lr * self.grad(X, y)\n",
        "            loss_train = self.ce(X, y)\n",
        "            losses_train[i] = loss_train\n",
        "            if X_valid is not None and y_valid is not None:\n",
        "                loss_valid = self.ce(X_valid, y_valid)\n",
        "                # if loss_valid>losses_valid[i-1] and i>1:\n",
        "                #   break\n",
        "                losses_valid[i] = loss_valid\n",
        "                # print(f\"iter {i}: {loss_train:.3f}; {loss_valid:.3f}\")\n",
        "            # else:\n",
        "                # print(f\"Spec iter {i}: {loss_train:.3f}\")\n",
        "        return losses_train, losses_valid\n",
        "\n",
        "    def check_grad(self, X, y):\n",
        "        N, C = y.shape\n",
        "        D = X.shape[1]\n",
        "\n",
        "        diff = np.zeros((D, C))\n",
        "\n",
        "        W = self.W.copy()\n",
        "\n",
        "        for i in range(D):\n",
        "            for j in range(C):\n",
        "                epsilon = np.zeros((D, C))\n",
        "                epsilon[i, j] = np.random.rand() * 1e-4\n",
        "\n",
        "                self.W = self.W + epsilon\n",
        "                J1 = self.ce(X, y)\n",
        "                self.W = W\n",
        "\n",
        "                self.W = self.W - epsilon\n",
        "                J2 = self.ce(X, y)\n",
        "                self.W = W\n",
        "\n",
        "                numeric_grad = (J1 - J2) / (2 * epsilon[i, j])\n",
        "                derived_grad = self.grad(X, y)[i, j]\n",
        "\n",
        "                diff[i, j] = np.square(derived_grad - numeric_grad).sum() / \\\n",
        "                             np.square(derived_grad + numeric_grad).sum()\n",
        "\n",
        "        # print(diff)\n",
        "        return diff.sum()\n"
      ]
    },
    {
      "cell_type": "markdown",
      "metadata": {
        "id": "Ni5QKTcJTruM"
      },
      "source": [
        "Create Multinomial Logistic Regression model object and check Gradient"
      ]
    },
    {
      "cell_type": "code",
      "execution_count": null,
      "metadata": {
        "id": "hmUTeiEOTswq"
      },
      "outputs": [],
      "source": [
        "D = best_X_array.shape[1]\n",
        "C = y_one_hot_encoded.shape[1]\n",
        "mlr = Multinomial_logistic(D, C)\n",
        "\n",
        "\n",
        "#Check Gradient\n",
        "# print(mlr.check_grad(X_train, y_train))"
      ]
    },
    {
      "cell_type": "markdown",
      "metadata": {
        "id": "q4z1pfLJUo9G"
      },
      "source": [
        "Fitting the multinomial logistic model"
      ]
    },
    {
      "cell_type": "code",
      "execution_count": null,
      "metadata": {
        "colab": {
          "base_uri": "https://localhost:8080/",
          "height": 297
        },
        "id": "jg65rMW7Upwd",
        "outputId": "4eb5b6ee-9438-4c2d-b295-0d6260330ca4"
      },
      "outputs": [
        {
          "data": {
            "image/png": "[encoded data removed]",
            "text/plain": [
              "<Figure size 432x288 with 1 Axes>"
            ]
          },
          "metadata": {
            "needs_background": "light"
          },
          "output_type": "display_data"
        },
        {
          "data": {
            "text/plain": [
              "<Figure size 432x288 with 0 Axes>"
            ]
          },
          "metadata": {},
          "output_type": "display_data"
        }
      ],
      "source": [
        "ce_train, ce_valid = mlr.fit(X_train, y_train, X_valid, y_valid, lr = 0.0005, niter=5000)\n",
        "\n",
        "plt.clf()\n",
        "plt.plot(ce_train/X_train.shape[0], label='train')\n",
        "plt.plot(ce_valid/X_valid.shape[0], label='valid')\n",
        "plt.xlabel(\"iteration\")\n",
        "plt.ylabel(\"CE\")\n",
        "plt.legend()\n",
        "plt.show()\n",
        "plt.savefig(\"training_ce.png\", bbox_inches=\"tight\", dpi=300)"
      ]
    },
    {
      "cell_type": "markdown",
      "metadata": {
        "id": "vzBC2GHEkEfj"
      },
      "source": [
        "From the above plot, we can see that with learning rate 0.0005, the change in the cross entropy for the validation set is basically 0 after 1500 iterations"
      ]
    },
    {
      "cell_type": "code",
      "execution_count": null,
      "metadata": {
        "colab": {
          "base_uri": "https://localhost:8080/"
        },
        "id": "3B6gUMDYMM_C",
        "outputId": "f1959052-f286-4d3a-ab59-abc07636a5ba"
      },
      "outputs": [
        {
          "name": "stdout",
          "output_type": "stream",
          "text": [
            "Training accuracy:  0.9195979899497487\n",
            "Validation accuracy:  0.8080301129234629\n",
            "Testing accuracy:  0.8089171974522293\n"
          ]
        }
      ],
      "source": [
        "def evaluate(y, y_pred):\n",
        "    accuracy = sum(y_pred.argmax(axis=1) == y.argmax(axis=1))\n",
        "    accuracy = accuracy / y.shape[0]\n",
        "    return accuracy\n",
        "train_accuracy = evaluate(mlr.predict(X_train), y_train)\n",
        "valid_accuracy = evaluate(mlr.predict(X_valid), y_valid)\n",
        "test_accuracy = evaluate(mlr.predict(X_test), y_test)\n",
        "\n",
        "print(\"Training accuracy: \", train_accuracy)\n",
        "print(\"Validation accuracy: \",valid_accuracy)\n",
        "print(\"Testing accuracy: \",test_accuracy)\n"
      ]
    },
    {
      "cell_type": "markdown",
      "metadata": {
        "id": "oIsodLCtz8UK"
      },
      "source": [
        "## Implementing KNN on the dataset"
      ]
    },
    {
      "cell_type": "markdown",
      "metadata": {
        "id": "qceKe8d4zcKE"
      },
      "source": [
        "Testing KNN with 20%, 40%, 60% and 80% of the data for training"
      ]
    },
    {
      "cell_type": "code",
      "execution_count": null,
      "metadata": {
        "colab": {
          "base_uri": "https://localhost:8080/"
        },
        "id": "vI3RLmJmz-yY",
        "outputId": "844f9640-a02c-4bc0-ae2c-b09a737c7d4b"
      },
      "outputs": [
        {
          "name": "stdout",
          "output_type": "stream",
          "text": [
            "--------------- Training Size: 0.2 ---------------\n",
            "Accuracy of train: 0.0\n",
            "Accuracy of test: 0.4550709406200736\n",
            "--------------- Training Size: 0.4 ---------------\n",
            "Accuracy of train: 1.0\n",
            "Accuracy of test: 0.5529081990189209\n",
            "--------------- Training Size: 0.6 ---------------\n",
            "Accuracy of train: 1.0\n",
            "Accuracy of test: 0.5808823529411765\n",
            "--------------- Training Size: 0.8 ---------------\n",
            "Accuracy of train: 1.0\n",
            "Accuracy of test: 0.5672268907563025\n"
          ]
        }
      ],
      "source": [
        "from sklearn.neighbors import KNeighborsClassifier\n",
        "\n",
        "training_size = [0.2,0.4,0.6,0.8]\n",
        "KNN_accuracies = []\n",
        "for size in training_size:\n",
        "  X_train, X_test, y_train, y_test = model_selection.train_test_split(\n",
        "    best_X_array, y_one_hot_encoded, train_size = size, shuffle=True)\n",
        "  \n",
        "  # Model training\n",
        "  knn = KNeighborsClassifier(n_neighbors = 5) # n_neighbors=5 (default)\n",
        "  fit = knn.fit(X_train, y_train)\n",
        "\n",
        "  y_train_pred = fit.predict(X_train)\n",
        "  y_test_pred = fit.predict(X_test)\n",
        "\n",
        "  sum_acc_train = 0\n",
        "  sum_acc_test = 0\n",
        "  for i in range(len(y_train)):\n",
        "    if np.array_equal(y_train_pred[0],y_train[0]):\n",
        "      sum_acc_train += 1\n",
        "\n",
        "  for i in range(len(y_test)):\n",
        "    if np.array_equal(y_test_pred[i],y_test[i]):\n",
        "      sum_acc_test += 1\n",
        "\n",
        "  acc_train = sum_acc_train/len(y_train)\n",
        "  acc_test = sum_acc_test/len(y_test)\n",
        "\n",
        "  print(f\"--------------- Training Size: {size} ---------------\")\n",
        "  print(f\"Accuracy of train: {acc_train}\")\n",
        "  print(f\"Accuracy of test: {acc_test}\")\n",
        "  KNN_accuracies.append(acc_test)"
      ]
    },
    {
      "cell_type": "markdown",
      "metadata": {
        "id": "VeBBpQey8E6a"
      },
      "source": [
        "## Heatmap"
      ]
    },
    {
      "cell_type": "code",
      "execution_count": null,
      "metadata": {
        "colab": {
          "base_uri": "https://localhost:8080/",
          "height": 592
        },
        "id": "wzXS1Wms8Hie",
        "outputId": "0af97a20-8a9b-4f23-8ed9-d5ece7aca1de"
      },
      "outputs": [
        {
          "data": {
            "image/png": "[encoded data removed]",
            "text/plain": [
              "<Figure size 360x720 with 2 Axes>"
            ]
          },
          "metadata": {
            "needs_background": "light"
          },
          "output_type": "display_data"
        }
      ],
      "source": [
        "from seaborn import heatmap\n",
        "W_hat = mlr.W\n",
        "plt.figure(figsize = (5,10))\n",
        "map = np.zeros(shape=(20,4))\n",
        "y_labels = []\n",
        "count=0\n",
        "for i in range(4):\n",
        "  temp = np.argpartition(-W_hat[:,i], 5)\n",
        "  result_args = temp[:5]\n",
        "  y_labels += result_args.tolist()\n",
        "\n",
        "  for j in result_args:\n",
        "    map[count] = W_hat[j]\n",
        "    count+=1\n",
        "\n",
        "y_actual_labels = []\n",
        "original_indices = sorted(list(best_words_index))\n",
        "for i in range(len(y_labels)):\n",
        "  y_actual_labels.append(count_vect.get_feature_names_out()[original_indices[y_labels[i]]])\n",
        "\n",
        "hmp = heatmap(map, cmap='RdBu_r', center=0, yticklabels = y_actual_labels, xticklabels=['Graphics','Motorcycle','Baseball','Christian'])\n",
        "\n",
        "fig = hmp.get_figure()\n",
        "fig.savefig(\"heatmap.png\", bbox_inches=\"tight\")"
      ]
    },
    {
      "cell_type": "markdown",
      "metadata": {
        "id": "nJNWISt24-IN"
      },
      "source": [
        "## Comparing accuracy of Multiclass Regression based on training size"
      ]
    },
    {
      "cell_type": "code",
      "execution_count": null,
      "metadata": {
        "colab": {
          "base_uri": "https://localhost:8080/"
        },
        "id": "9nEJR9Sr5L-V",
        "outputId": "f12154a9-5c27-4833-a6c7-f3315b1162c3"
      },
      "outputs": [
        {
          "name": "stdout",
          "output_type": "stream",
          "text": [
            "--------------- Training Size: 0.2 ---------------\n",
            "Training accuracy:  0.9073684210526316\n",
            "Test accuracy:  0.7992643194955333\n",
            "\n",
            "--------------- Training Size: 0.4 ---------------\n",
            "Training accuracy:  0.9011566771819137\n",
            "Test accuracy:  0.8234057463209531\n",
            "\n",
            "--------------- Training Size: 0.6 ---------------\n",
            "Training accuracy:  0.8920056100981767\n",
            "Test accuracy:  0.8371848739495799\n",
            "\n",
            "--------------- Training Size: 0.8 ---------------\n",
            "Training accuracy:  0.8890641430073607\n",
            "Test accuracy:  0.8403361344537815\n",
            "\n"
          ]
        }
      ],
      "source": [
        "training_size = [0.2,0.4,0.6,0.8]\n",
        "MLR_accuracies = []\n",
        "\n",
        "for size in training_size:\n",
        "  X_train, X_test, y_train, y_test = model_selection.train_test_split(\n",
        "    best_X_array, y_one_hot_encoded, train_size = size, shuffle=True)\n",
        "\n",
        "  mlr = Multinomial_logistic(D, C)\n",
        "\n",
        "  ce_train, ce_valid = mlr.fit(X_train, y_train, lr = 0.0005, niter=1500)\n",
        "\n",
        "  train_accuracy = evaluate(mlr.predict(X_train), y_train)\n",
        "  test_accuracy = evaluate(mlr.predict(X_test), y_test)\n",
        "\n",
        "  print(f\"--------------- Training Size: {size} ---------------\")\n",
        "  print(\"Training accuracy: \",train_accuracy)\n",
        "  print(\"Test accuracy: \",test_accuracy)\n",
        "  print()\n",
        "  MLR_accuracies.append(test_accuracy)"
      ]
    },
    {
      "cell_type": "markdown",
      "metadata": {
        "id": "zfyct97azYN3"
      },
      "source": [
        "## KNN vs Multiclass Regression with different training sizes"
      ]
    },
    {
      "cell_type": "code",
      "execution_count": null,
      "metadata": {
        "colab": {
          "base_uri": "https://localhost:8080/",
          "height": 281
        },
        "id": "Ze-6ROfmzhNV",
        "outputId": "cfc19991-955c-4aeb-bebb-09c3a3a2ca84"
      },
      "outputs": [
        {
          "data": {
            "image/png": "[encoded data removed]",
            "text/plain": [
              "<Figure size 432x288 with 1 Axes>"
            ]
          },
          "metadata": {
            "needs_background": "light"
          },
          "output_type": "display_data"
        }
      ],
      "source": [
        "X = ['20%','40%','60%','80%']\n",
        "  \n",
        "X_axis = np.arange(len(X))\n",
        "  \n",
        "plt.bar(X_axis - 0.2, KNN_accuracies, 0.4, label = 'KNN')\n",
        "plt.bar(X_axis + 0.2, MLR_accuracies, 0.4, label = 'Multiclass Regression')\n",
        "\n",
        "plt.xticks(X_axis, X)\n",
        "plt.ylabel(\"Accuracy\")\n",
        "plt.title(\"Accuracy of different training sizes\")\n",
        "plt.legend()\n",
        "plt.legend(loc='lower right', bbox_to_anchor=(1, 0.65))\n",
        "plt.savefig(\"KNN vs Multiclass Regression.png\", bbox_inches=\"tight\")\n",
        "plt.show()\n"
      ]
    },
    {
      "cell_type": "markdown",
      "metadata": {
        "id": "nCCTJAD07d4e"
      },
      "source": [
        "## Trying different learning rates"
      ]
    },
    {
      "cell_type": "markdown",
      "metadata": {
        "id": "CS4N_SVG7laZ"
      },
      "source": [
        "Previously, we fixed the learning rate and number of iterations for each training size. However, this caused the higher training sizes to converges extremely slowly. Let's see how we can play around with the values to increase the convergence rate."
      ]
    },
    {
      "cell_type": "code",
      "execution_count": null,
      "metadata": {
        "colab": {
          "base_uri": "https://localhost:8080/",
          "height": 1000
        },
        "id": "OP88PrKB7wEX",
        "outputId": "56165269-35a3-4fe7-b9d2-b90b813f7c12"
      },
      "outputs": [
        {
          "name": "stdout",
          "output_type": "stream",
          "text": [
            "--------------- Learning Rate: 0.0005 ---------------\n",
            "Training accuracy:  0.9367088607594937\n",
            "Test accuracy:  0.7540725170782975\n",
            "\n",
            "--------------- Learning Rate: 0.005 ---------------\n",
            "Training accuracy:  0.9493670886075949\n",
            "Test accuracy:  0.7456647398843931\n",
            "\n",
            "--------------- Learning Rate: 0.05 ---------------\n",
            "Training accuracy:  0.9493670886075949\n",
            "Test accuracy:  0.7388334209143458\n",
            "\n",
            "--------------- Learning Rate: 0.1 ---------------\n",
            "Training accuracy:  0.9451476793248945\n",
            "Test accuracy:  0.7498686284813453\n",
            "\n",
            "--------------- Learning Rate: 0.0001 ---------------\n",
            "Training accuracy:  0.8987341772151899\n",
            "Test accuracy:  0.7241198108250131\n",
            "\n",
            "--------------- Learning Rate: 0.001 ---------------\n",
            "Training accuracy:  0.9451476793248945\n",
            "Test accuracy:  0.7787703625853915\n",
            "\n"
          ]
        },
        {
          "data": {
            "image/png": "[encoded data removed]",
            "text/plain": [
              "<Figure size 432x288 with 1 Axes>"
            ]
          },
          "metadata": {
            "needs_background": "light"
          },
          "output_type": "display_data"
        },
        {
          "name": "stdout",
          "output_type": "stream",
          "text": [
            "--------------- Learning Rate: 0.0005 ---------------\n",
            "Training accuracy:  0.9136842105263158\n",
            "Test accuracy:  0.8051857042747022\n",
            "\n"
          ]
        },
        {
          "ename": "KeyboardInterrupt",
          "evalue": "ignored",
          "output_type": "error",
          "traceback": [
            "\u001b[0;31m---------------------------------------------------------------------------\u001b[0m",
            "\u001b[0;31mKeyboardInterrupt\u001b[0m                         Traceback (most recent call last)",
            "\u001b[0;32m<ipython-input-36-4656fb94e0cb>\u001b[0m in \u001b[0;36m<module>\u001b[0;34m\u001b[0m\n\u001b[1;32m     16\u001b[0m     \u001b[0mmlr\u001b[0m \u001b[0;34m=\u001b[0m \u001b[0mMultinomial_logistic\u001b[0m\u001b[0;34m(\u001b[0m\u001b[0mD\u001b[0m\u001b[0;34m,\u001b[0m \u001b[0mC\u001b[0m\u001b[0;34m)\u001b[0m\u001b[0;34m\u001b[0m\u001b[0;34m\u001b[0m\u001b[0m\n\u001b[1;32m     17\u001b[0m \u001b[0;34m\u001b[0m\u001b[0m\n\u001b[0;32m---> 18\u001b[0;31m     \u001b[0mce_train\u001b[0m\u001b[0;34m,\u001b[0m \u001b[0mce_valid\u001b[0m \u001b[0;34m=\u001b[0m \u001b[0mmlr\u001b[0m\u001b[0;34m.\u001b[0m\u001b[0mfit\u001b[0m\u001b[0;34m(\u001b[0m\u001b[0mX_train\u001b[0m\u001b[0;34m,\u001b[0m \u001b[0my_train\u001b[0m\u001b[0;34m,\u001b[0m\u001b[0mX_valid\u001b[0m\u001b[0;34m,\u001b[0m \u001b[0my_valid\u001b[0m\u001b[0;34m,\u001b[0m \u001b[0mlr\u001b[0m \u001b[0;34m=\u001b[0m \u001b[0mlr\u001b[0m\u001b[0;34m,\u001b[0m \u001b[0mniter\u001b[0m\u001b[0;34m=\u001b[0m\u001b[0;36m2000\u001b[0m\u001b[0;34m)\u001b[0m\u001b[0;34m\u001b[0m\u001b[0;34m\u001b[0m\u001b[0m\n\u001b[0m\u001b[1;32m     19\u001b[0m \u001b[0;34m\u001b[0m\u001b[0m\n\u001b[1;32m     20\u001b[0m     \u001b[0mplt\u001b[0m\u001b[0;34m.\u001b[0m\u001b[0mplot\u001b[0m\u001b[0;34m(\u001b[0m\u001b[0mce_valid\u001b[0m\u001b[0;34m/\u001b[0m\u001b[0mX_valid\u001b[0m\u001b[0;34m.\u001b[0m\u001b[0mshape\u001b[0m\u001b[0;34m[\u001b[0m\u001b[0;36m0\u001b[0m\u001b[0;34m]\u001b[0m\u001b[0;34m,\u001b[0m \u001b[0mlabel\u001b[0m\u001b[0;34m=\u001b[0m\u001b[0;34mf'learning rate = {lr}'\u001b[0m\u001b[0;34m)\u001b[0m\u001b[0;34m\u001b[0m\u001b[0;34m\u001b[0m\u001b[0m\n",
            "\u001b[0;32m<ipython-input-27-173e50c262f3>\u001b[0m in \u001b[0;36mfit\u001b[0;34m(self, X, y, X_valid, y_valid, epsilon, lr, niter)\u001b[0m\n\u001b[1;32m     28\u001b[0m             \u001b[0mlosses_train\u001b[0m\u001b[0;34m[\u001b[0m\u001b[0mi\u001b[0m\u001b[0;34m]\u001b[0m \u001b[0;34m=\u001b[0m \u001b[0mloss_train\u001b[0m\u001b[0;34m\u001b[0m\u001b[0;34m\u001b[0m\u001b[0m\n\u001b[1;32m     29\u001b[0m             \u001b[0;32mif\u001b[0m \u001b[0mX_valid\u001b[0m \u001b[0;32mis\u001b[0m \u001b[0;32mnot\u001b[0m \u001b[0;32mNone\u001b[0m \u001b[0;32mand\u001b[0m \u001b[0my_valid\u001b[0m \u001b[0;32mis\u001b[0m \u001b[0;32mnot\u001b[0m \u001b[0;32mNone\u001b[0m\u001b[0;34m:\u001b[0m\u001b[0;34m\u001b[0m\u001b[0;34m\u001b[0m\u001b[0m\n\u001b[0;32m---> 30\u001b[0;31m                 \u001b[0mloss_valid\u001b[0m \u001b[0;34m=\u001b[0m \u001b[0mself\u001b[0m\u001b[0;34m.\u001b[0m\u001b[0mce\u001b[0m\u001b[0;34m(\u001b[0m\u001b[0mX_valid\u001b[0m\u001b[0;34m,\u001b[0m \u001b[0my_valid\u001b[0m\u001b[0;34m)\u001b[0m\u001b[0;34m\u001b[0m\u001b[0;34m\u001b[0m\u001b[0m\n\u001b[0m\u001b[1;32m     31\u001b[0m                 \u001b[0;31m# if loss_valid>losses_valid[i-1] and i>1:\u001b[0m\u001b[0;34m\u001b[0m\u001b[0;34m\u001b[0m\u001b[0;34m\u001b[0m\u001b[0m\n\u001b[1;32m     32\u001b[0m                 \u001b[0;31m#   break\u001b[0m\u001b[0;34m\u001b[0m\u001b[0;34m\u001b[0m\u001b[0;34m\u001b[0m\u001b[0m\n",
            "\u001b[0;32m<ipython-input-27-173e50c262f3>\u001b[0m in \u001b[0;36mce\u001b[0;34m(self, X, y)\u001b[0m\n\u001b[1;32m     16\u001b[0m \u001b[0;34m\u001b[0m\u001b[0m\n\u001b[1;32m     17\u001b[0m     \u001b[0;32mdef\u001b[0m \u001b[0mce\u001b[0m\u001b[0;34m(\u001b[0m\u001b[0mself\u001b[0m\u001b[0;34m,\u001b[0m \u001b[0mX\u001b[0m\u001b[0;34m,\u001b[0m \u001b[0my\u001b[0m\u001b[0;34m)\u001b[0m\u001b[0;34m:\u001b[0m\u001b[0;34m\u001b[0m\u001b[0;34m\u001b[0m\u001b[0m\n\u001b[0;32m---> 18\u001b[0;31m         \u001b[0;32mreturn\u001b[0m \u001b[0;34m-\u001b[0m\u001b[0mnp\u001b[0m\u001b[0;34m.\u001b[0m\u001b[0msum\u001b[0m\u001b[0;34m(\u001b[0m\u001b[0mspecial\u001b[0m\u001b[0;34m.\u001b[0m\u001b[0mxlogy\u001b[0m\u001b[0;34m(\u001b[0m\u001b[0my\u001b[0m\u001b[0;34m,\u001b[0m\u001b[0mself\u001b[0m\u001b[0;34m.\u001b[0m\u001b[0mpredict\u001b[0m\u001b[0;34m(\u001b[0m\u001b[0mX\u001b[0m\u001b[0;34m)\u001b[0m\u001b[0;34m)\u001b[0m\u001b[0;34m)\u001b[0m\u001b[0;34m\u001b[0m\u001b[0;34m\u001b[0m\u001b[0m\n\u001b[0m\u001b[1;32m     19\u001b[0m \u001b[0;34m\u001b[0m\u001b[0m\n\u001b[1;32m     20\u001b[0m     \u001b[0;32mdef\u001b[0m \u001b[0mfit\u001b[0m\u001b[0;34m(\u001b[0m\u001b[0mself\u001b[0m\u001b[0;34m,\u001b[0m \u001b[0mX\u001b[0m\u001b[0;34m,\u001b[0m \u001b[0my\u001b[0m\u001b[0;34m,\u001b[0m \u001b[0mX_valid\u001b[0m\u001b[0;34m=\u001b[0m\u001b[0;32mNone\u001b[0m\u001b[0;34m,\u001b[0m \u001b[0my_valid\u001b[0m\u001b[0;34m=\u001b[0m\u001b[0;32mNone\u001b[0m\u001b[0;34m,\u001b[0m \u001b[0mepsilon\u001b[0m\u001b[0;34m=\u001b[0m\u001b[0;36m1e-2\u001b[0m\u001b[0;34m,\u001b[0m \u001b[0mlr\u001b[0m\u001b[0;34m=\u001b[0m\u001b[0;36m0.001\u001b[0m\u001b[0;34m,\u001b[0m \u001b[0mniter\u001b[0m\u001b[0;34m=\u001b[0m\u001b[0;36m100\u001b[0m\u001b[0;34m)\u001b[0m\u001b[0;34m:\u001b[0m\u001b[0;34m\u001b[0m\u001b[0;34m\u001b[0m\u001b[0m\n",
            "\u001b[0;32m<ipython-input-27-173e50c262f3>\u001b[0m in \u001b[0;36mpredict\u001b[0;34m(self, X)\u001b[0m\n\u001b[1;32m      7\u001b[0m \u001b[0;34m\u001b[0m\u001b[0m\n\u001b[1;32m      8\u001b[0m     \u001b[0;32mdef\u001b[0m \u001b[0mpredict\u001b[0m\u001b[0;34m(\u001b[0m\u001b[0mself\u001b[0m\u001b[0;34m,\u001b[0m \u001b[0mX\u001b[0m\u001b[0;34m)\u001b[0m\u001b[0;34m:\u001b[0m\u001b[0;34m\u001b[0m\u001b[0;34m\u001b[0m\u001b[0m\n\u001b[0;32m----> 9\u001b[0;31m         \u001b[0mZ\u001b[0m \u001b[0;34m=\u001b[0m \u001b[0mnp\u001b[0m\u001b[0;34m.\u001b[0m\u001b[0mmatmul\u001b[0m\u001b[0;34m(\u001b[0m\u001b[0mX\u001b[0m\u001b[0;34m,\u001b[0m \u001b[0mself\u001b[0m\u001b[0;34m.\u001b[0m\u001b[0mW\u001b[0m\u001b[0;34m)\u001b[0m\u001b[0;34m\u001b[0m\u001b[0;34m\u001b[0m\u001b[0m\n\u001b[0m\u001b[1;32m     10\u001b[0m         \u001b[0mZ\u001b[0m \u001b[0;34m=\u001b[0m \u001b[0mZ\u001b[0m \u001b[0;34m-\u001b[0m \u001b[0mZ\u001b[0m\u001b[0;34m.\u001b[0m\u001b[0mmax\u001b[0m\u001b[0;34m(\u001b[0m\u001b[0maxis\u001b[0m\u001b[0;34m=\u001b[0m\u001b[0;34m-\u001b[0m\u001b[0;36m1\u001b[0m\u001b[0;34m,\u001b[0m \u001b[0mkeepdims\u001b[0m\u001b[0;34m=\u001b[0m\u001b[0;32mTrue\u001b[0m\u001b[0;34m)\u001b[0m\u001b[0;34m\u001b[0m\u001b[0;34m\u001b[0m\u001b[0m\n\u001b[1;32m     11\u001b[0m         \u001b[0my_pred\u001b[0m \u001b[0;34m=\u001b[0m \u001b[0mnp\u001b[0m\u001b[0;34m.\u001b[0m\u001b[0mexp\u001b[0m\u001b[0;34m(\u001b[0m\u001b[0mZ\u001b[0m\u001b[0;34m)\u001b[0m\u001b[0;34m\u001b[0m\u001b[0;34m\u001b[0m\u001b[0m\n",
            "\u001b[0;31mKeyboardInterrupt\u001b[0m: "
          ]
        },
        {
          "data": {
            "image/png": "[encoded data removed]",
            "text/plain": [
              "<Figure size 432x288 with 1 Axes>"
            ]
          },
          "metadata": {
            "needs_background": "light"
          },
          "output_type": "display_data"
        }
      ],
      "source": [
        "learning_rates = [0.0005, 0.005, 0.05, 0.1, 0.0001, 0.001]\n",
        "\n",
        "for size in training_size:\n",
        "  X_train, X_test, y_train, y_test = model_selection.train_test_split(\n",
        "      best_X_array, y_one_hot_encoded, train_size = size, shuffle=True)\n",
        "\n",
        "  X_train, X_valid, y_train, y_valid = model_selection.train_test_split(\n",
        "      X_train, y_train, test_size = 0.5, random_state=1, shuffle=True)\n",
        "\n",
        "  plt.clf()\n",
        "  plt.title(f\"Training Size: {size}\")\n",
        "  plt.ylim(0.2, 2)\n",
        "  for lr in learning_rates:\n",
        "    D = best_X_array.shape[1]\n",
        "    C = y_one_hot_encoded.shape[1]\n",
        "    mlr = Multinomial_logistic(D, C)\n",
        "\n",
        "    ce_train, ce_valid = mlr.fit(X_train, y_train,X_valid, y_valid, lr = lr, niter=2000)\n",
        "    \n",
        "    plt.plot(ce_valid/X_valid.shape[0], label=f'learning rate = {lr}')\n",
        "    \n",
        "\n",
        "    train_accuracy = evaluate(mlr.predict(X_train), y_train)\n",
        "    test_accuracy = evaluate(mlr.predict(X_test), y_test)\n",
        "\n",
        "    print(f\"--------------- Learning Rate: {lr} ---------------\")\n",
        "    print(\"Training accuracy: \",train_accuracy)\n",
        "    print(\"Test accuracy: \",test_accuracy)\n",
        "    print()\n",
        "\n",
        "  plt.xlabel(\"iteration\")\n",
        "  plt.ylabel(\"CE\")\n",
        "  plt.legend()\n",
        "  plt.legend(loc='upper center', bbox_to_anchor=(0.5, 1))\n",
        "  plt.savefig(f\"learning_rate_vs_train_size_{size*100}.png\",bbox_inches=\"tight\")\n",
        "  plt.show()"
      ]
    }
  ],
  "metadata": {
    "colab": {
      "collapsed_sections": [],
      "provenance": [],
      "toc_visible": true
    },
    "kernelspec": {
      "display_name": "Python 3.10.5 64-bit",
      "language": "python",
      "name": "python3"
    },
    "language_info": {
      "codemirror_mode": {
        "name": "ipython",
        "version": 3
      },
      "file_extension": ".py",
      "mimetype": "text/x-python",
      "name": "python",
      "nbconvert_exporter": "python",
      "pygments_lexer": "ipython3",
      "version": "3.10.5"
    },
    "vscode": {
      "interpreter": {
        "hash": "e3d3e4707f60ffaaacd6e389ee44d1fd745b7ad4844b788f4dcb039c8e594976"
      }
    }
  },
  "nbformat": 4,
  "nbformat_minor": 0
}
